{
 "cells": [
  {
   "cell_type": "markdown",
   "id": "2ebb41ba-9e8b-4f50-b9a5-2ea86cb3f9ad",
   "metadata": {
    "lines_to_next_cell": 3
   },
   "source": [
    "# Asana API Tutorial Notebook\n",
    "\n",
    "**What this Notebook Does:**\n",
    "- Shows how to authenticate and interact with Asana via our custom API layer.\n",
    "- Demonstrates how to fetch tasks and comments for a specified project and time period.\n",
    "- Computes simple statistics (e.g., tasks created, tasks completed, number of comments).\n",
    "- Includes unit tests to ensure the code runs correctly.\n",
    "\n",
    "**Prerequisites:**\n",
    "- A valid Asana Personal Access Token (PAT).\n",
    "- The `python-asana` library and our custom `asana_wrapper.py` module.\n",
    "- Internet connectivity.\n",
    "\n",
    "**Instructions:**\n",
    "1. Set your `ASANA_ACCESS_TOKEN` environment variable before running.\n",
    "2. Run the cells from top to bottom."
   ]
  },
  {
   "cell_type": "code",
   "execution_count": 7,
   "id": "39e4b3fa-cb99-4799-aa00-fa8849a5fdbe",
   "metadata": {},
   "outputs": [],
   "source": [
    "import logging\n",
    "\n",
    "import config_root.config as cconfig\n",
    "import matplotlib.pyplot as plt\n",
    "import pandas as pd\n",
    "import datetime\n",
    "\n",
    "import helpers.hdbg as hdbg\n",
    "import helpers.hpandas as hpandas\n",
    "import helpers.hprint as hprint\n",
    "import utils "
   ]
  },
  {
   "cell_type": "code",
   "execution_count": 8,
   "id": "62e40f85-8ec8-4e2e-a944-46ee34097312",
   "metadata": {},
   "outputs": [
    {
     "name": "stdout",
     "output_type": "stream",
     "text": [
      "\u001b[0m\u001b[33mWARNING\u001b[0m: Logger already initialized: skipping\n"
     ]
    }
   ],
   "source": [
    "hdbg.init_logger(verbosity=logging.INFO)\n",
    "\n",
    "_LOG = logging.getLogger(__name__)\n",
    "\n",
    "hprint.config_notebook()"
   ]
  },
  {
   "cell_type": "markdown",
   "id": "ee42818c-a334-4b3d-a9e0-69ad1891433a",
   "metadata": {},
   "source": [
    "## Define Config\n",
    "\n",
    "Here we define all parameters in a single `config` dictionary. \n",
    "ou can easily modify:\n",
    "- The `project_id` to analyze a different project.\n",
    "- The `start_date` and `end_date` to change the timeframe."
   ]
  },
  {
   "cell_type": "code",
   "execution_count": 9,
   "id": "fdb9b16b-7958-4179-97b5-eee8a42e2caf",
   "metadata": {},
   "outputs": [],
   "source": [
    "today = datetime.datetime.now()\n",
    "one_week_ago = today - datetime.timedelta(days=7)\n",
    "config = {\n",
    "    \"project_id\": \"YOUR_PROJECT_ID_HERE\",  # Replace with a valid project ID from your Asana workspace\n",
    "    \"start_date\": one_week_ago.isoformat(),\n",
    "    \"end_date\": today.isoformat(),\n",
    "    \"access_token\": \"2/1208871906331279/1208966663406154:1c6f6b89083e73c22241670b11bf00ba\"\n",
    "}"
   ]
  },
  {
   "cell_type": "markdown",
   "id": "ece48889-99da-4eef-94fa-445e5b68977e",
   "metadata": {},
   "source": [
    "## Intialize asana client"
   ]
  },
  {
   "cell_type": "code",
   "execution_count": null,
   "id": "21205c8d-24e7-4e1a-a9fd-7c10329a120f",
   "metadata": {},
   "outputs": [],
   "source": [
    "client = utils.AsanaClient(access_token=config[\"access_token\"])"
   ]
  },
  {
   "cell_type": "code",
   "execution_count": null,
   "id": "fc8c4243-b3f4-4a45-8e4a-6e52e110cca0",
   "metadata": {},
   "outputs": [],
   "source": []
  },
  {
   "cell_type": "code",
   "execution_count": null,
   "id": "b35f4e39-81cb-479c-bde8-a1d50680ae4e",
   "metadata": {},
   "outputs": [],
   "source": []
  }
 ],
 "metadata": {
  "jupytext": {
   "formats": "ipynb,py:percent"
  },
  "kernelspec": {
   "display_name": "Python 3 (ipykernel)",
   "language": "python",
   "name": "python3"
  },
  "language_info": {
   "codemirror_mode": {
    "name": "ipython",
    "version": 3
   },
   "file_extension": ".py",
   "mimetype": "text/x-python",
   "name": "python",
   "nbconvert_exporter": "python",
   "pygments_lexer": "ipython3",
   "version": "3.12.3"
  }
 },
 "nbformat": 4,
 "nbformat_minor": 5
}
