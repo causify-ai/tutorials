{
 "cells": [
  {
   "cell_type": "markdown",
   "id": "2ebb41ba-9e8b-4f50-b9a5-2ea86cb3f9ad",
   "metadata": {},
   "source": [
    "# Asana API Tutorial Notebook\n",
    "\n",
    "**What this Notebook Does:**\n",
    "- Shows how to authenticate and interact with Asana via our custom API layer.\n",
    "- Demonstrates how to fetch tasks and comments for a specified project and time period.\n",
    "- Computes simple statistics (e.g., tasks created, tasks completed, number of comments).\n",
    "- Includes unit tests to ensure the code runs correctly.\n",
    "\n",
    "**Prerequisites:**\n",
    "- A valid Asana Personal Access Token (PAT).\n",
    "\n",
    "**Instructions:**\n",
    "1. Recommended to your `ASANA_ACCESS_TOKEN` environment variable before running.\n",
    "\n",
    "\n"
   ]
  },
  {
   "cell_type": "code",
   "execution_count": 13,
   "id": "28cdd49f-8672-4369-952d-c519bc1b68aa",
   "metadata": {},
   "outputs": [
    {
     "name": "stdout",
     "output_type": "stream",
     "text": [
      "The autoreload extension is already loaded. To reload it, use:\n",
      "  %reload_ext autoreload\n"
     ]
    }
   ],
   "source": [
    "%load_ext autoreload\n",
    "%autoreload 2\n",
    "%matplotlib inline"
   ]
  },
  {
   "cell_type": "code",
   "execution_count": 14,
   "id": "39e4b3fa-cb99-4799-aa00-fa8849a5fdbe",
   "metadata": {},
   "outputs": [],
   "source": [
    "import datetime\n",
    "import logging\n",
    "\n",
    "import helpers.hdbg as hdbg\n",
    "import helpers.hpandas as hpandas\n",
    "import helpers.hprint as hprint\n",
    "import utils"
   ]
  },
  {
   "cell_type": "code",
   "execution_count": 15,
   "id": "62e40f85-8ec8-4e2e-a944-46ee34097312",
   "metadata": {},
   "outputs": [
    {
     "name": "stdout",
     "output_type": "stream",
     "text": [
      "\u001b[0m\u001b[33mWARNING\u001b[0m: Logger already initialized: skipping\n"
     ]
    }
   ],
   "source": [
    "hdbg.init_logger(verbosity=logging.INFO)\n",
    "\n",
    "_LOG = logging.getLogger(__name__)\n",
    "\n",
    "hprint.config_notebook()"
   ]
  },
  {
   "cell_type": "markdown",
   "id": "ee42818c-a334-4b3d-a9e0-69ad1891433a",
   "metadata": {},
   "source": [
    "## Define Config\n",
    "\n",
    "Here we define all parameters in a single `config` dictionary.\n",
    "ou can easily modify:\n",
    "- The `project_id` to analyze a different project.\n",
    "- The `start_date` and `end_date` to change the timeframe."
   ]
  },
  {
   "cell_type": "code",
   "execution_count": 16,
   "id": "fdb9b16b-7958-4179-97b5-eee8a42e2caf",
   "metadata": {},
   "outputs": [],
   "source": [
    "today = datetime.datetime.now()\n",
    "one_month_ago = today - datetime.timedelta(days=30)\n",
    "config = {\n",
    "    # Replace with a valid project ID from your Asana workspace.\n",
    "    \"project_id\": [\"1208279350109582\"],\n",
    "    \"start_date\": one_month_ago.isoformat(),\n",
    "    \"end_date\": today.isoformat(),\n",
    "    \"access_token\": \"2/1208871906331279/1208966663406154:1c6f6b89083e73c22241670b11bf00ba\",\n",
    "}"
   ]
  },
  {
   "cell_type": "markdown",
   "id": "ece48889-99da-4eef-94fa-445e5b68977e",
   "metadata": {},
   "source": [
    "## Intialize asana client"
   ]
  },
  {
   "cell_type": "code",
   "execution_count": 17,
   "id": "21205c8d-24e7-4e1a-a9fd-7c10329a120f",
   "metadata": {
    "lines_to_next_cell": 0
   },
   "outputs": [],
   "source": [
    "client = utils.AsanaClient(access_token=config[\"access_token\"])"
   ]
  },
  {
   "cell_type": "markdown",
   "id": "e7ed00b7",
   "metadata": {
    "lines_to_next_cell": 0
   },
   "source": [
    "## Fetching Task Data\n",
    "\n",
    " Using the parameters in `config`, we’ll fetch:\n",
    " - Tasks created within the `start_date` and `end_date`\n",
    " - Tasks completed within the same range\n",
    "\n",
    " The `fetch_tasks()` function returns a DataFrame with columns like:\n",
    " - `task_id`\n",
    " - `name`\n",
    " - `assignee`\n",
    " - `created_at`\n",
    " - `completed_at`\n"
   ]
  },
  {
   "cell_type": "code",
   "execution_count": 22,
   "id": "8bb5cd73-28f8-4b33-9deb-ef6c0f133267",
   "metadata": {},
   "outputs": [
    {
     "data": {
      "text/html": [
       "<div>\n",
       "<style scoped>\n",
       "    .dataframe tbody tr th:only-of-type {\n",
       "        vertical-align: middle;\n",
       "    }\n",
       "\n",
       "    .dataframe tbody tr th {\n",
       "        vertical-align: top;\n",
       "    }\n",
       "\n",
       "    .dataframe thead th {\n",
       "        text-align: right;\n",
       "    }\n",
       "</style>\n",
       "<table border=\"1\" class=\"dataframe\">\n",
       "  <thead>\n",
       "    <tr style=\"text-align: right;\">\n",
       "      <th></th>\n",
       "      <th>task_id</th>\n",
       "      <th>assignee</th>\n",
       "      <th>completed</th>\n",
       "      <th>completed_at</th>\n",
       "      <th>created_at</th>\n",
       "      <th>name</th>\n",
       "      <th>project_id</th>\n",
       "      <th>project_status</th>\n",
       "      <th>task_status</th>\n",
       "    </tr>\n",
       "  </thead>\n",
       "  <tbody>\n",
       "    <tr>\n",
       "      <th>0</th>\n",
       "      <td>1208871906331267</td>\n",
       "      <td>None</td>\n",
       "      <td>False</td>\n",
       "      <td>NaT</td>\n",
       "      <td>2024-11-29 13:22:25.113000+00:00</td>\n",
       "      <td>Create specs for all the class projects</td>\n",
       "      <td>1208279350109582</td>\n",
       "      <td>Active</td>\n",
       "      <td>Incomplete</td>\n",
       "    </tr>\n",
       "    <tr>\n",
       "      <th>1</th>\n",
       "      <td>1208871906331269</td>\n",
       "      <td>None</td>\n",
       "      <td>False</td>\n",
       "      <td>NaT</td>\n",
       "      <td>2024-11-29 13:22:31.777000+00:00</td>\n",
       "      <td>Create sign up Gsheet for the projects</td>\n",
       "      <td>1208279350109582</td>\n",
       "      <td>Active</td>\n",
       "      <td>Incomplete</td>\n",
       "    </tr>\n",
       "    <tr>\n",
       "      <th>2</th>\n",
       "      <td>1208871906331273</td>\n",
       "      <td>None</td>\n",
       "      <td>False</td>\n",
       "      <td>NaT</td>\n",
       "      <td>2024-11-29 13:23:06.880000+00:00</td>\n",
       "      <td>Recover / reorg past years tests</td>\n",
       "      <td>1208279350109582</td>\n",
       "      <td>Active</td>\n",
       "      <td>Incomplete</td>\n",
       "    </tr>\n",
       "    <tr>\n",
       "      <th></th>\n",
       "      <td>...</td>\n",
       "      <td>...</td>\n",
       "      <td>...</td>\n",
       "      <td>...</td>\n",
       "      <td>...</td>\n",
       "      <td>...</td>\n",
       "      <td>...</td>\n",
       "      <td>...</td>\n",
       "      <td>...</td>\n",
       "    </tr>\n",
       "    <tr>\n",
       "      <th>14</th>\n",
       "      <td>1208751109010015</td>\n",
       "      <td>Shaunak Dhande</td>\n",
       "      <td>False</td>\n",
       "      <td>NaT</td>\n",
       "      <td>2024-11-12 20:31:13.332000+00:00</td>\n",
       "      <td>Allen Mathews &lt;mathew10@umd.edu&gt;</td>\n",
       "      <td>1208279350109582</td>\n",
       "      <td>Active</td>\n",
       "      <td>Incomplete</td>\n",
       "    </tr>\n",
       "    <tr>\n",
       "      <th>15</th>\n",
       "      <td>1208778585230952</td>\n",
       "      <td>None</td>\n",
       "      <td>False</td>\n",
       "      <td>NaT</td>\n",
       "      <td>2024-11-16 19:02:56.602000+00:00</td>\n",
       "      <td>Vikas Patel &lt;vikas01@umd.edu&gt;</td>\n",
       "      <td>1208279350109582</td>\n",
       "      <td>Active</td>\n",
       "      <td>Incomplete</td>\n",
       "    </tr>\n",
       "    <tr>\n",
       "      <th>16</th>\n",
       "      <td>1208778585230961</td>\n",
       "      <td>None</td>\n",
       "      <td>False</td>\n",
       "      <td>NaT</td>\n",
       "      <td>2024-11-18 02:53:10.073000+00:00</td>\n",
       "      <td>Abhinav Maheshwari &lt;abhinavm@umd.edu&gt;</td>\n",
       "      <td>1208279350109582</td>\n",
       "      <td>Active</td>\n",
       "      <td>Incomplete</td>\n",
       "    </tr>\n",
       "  </tbody>\n",
       "</table>\n",
       "</div>"
      ],
      "text/plain": [
       "             task_id        assignee completed completed_at                        created_at                                     name        project_id project_status task_status\n",
       "0   1208871906331267            None     False          NaT  2024-11-29 13:22:25.113000+00:00  Create specs for all the class projects  1208279350109582         Active  Incomplete\n",
       "1   1208871906331269            None     False          NaT  2024-11-29 13:22:31.777000+00:00  Create sign up Gsheet for the projects   1208279350109582         Active  Incomplete\n",
       "2   1208871906331273            None     False          NaT  2024-11-29 13:23:06.880000+00:00         Recover / reorg past years tests  1208279350109582         Active  Incomplete\n",
       "                 ...             ...       ...          ...                               ...                                      ...               ...            ...         ...\n",
       "14  1208751109010015  Shaunak Dhande     False          NaT  2024-11-12 20:31:13.332000+00:00         Allen Mathews <mathew10@umd.edu>  1208279350109582         Active  Incomplete\n",
       "15  1208778585230952            None     False          NaT  2024-11-16 19:02:56.602000+00:00            Vikas Patel <vikas01@umd.edu>  1208279350109582         Active  Incomplete\n",
       "16  1208778585230961            None     False          NaT  2024-11-18 02:53:10.073000+00:00    Abhinav Maheshwari <abhinavm@umd.edu>  1208279350109582         Active  Incomplete"
      ]
     },
     "metadata": {},
     "output_type": "display_data"
    },
    {
     "name": "stdout",
     "output_type": "stream",
     "text": [
      "INFO  Created_taaks_df = \n",
      "None\n"
     ]
    }
   ],
   "source": [
    "# Fetch tasks created in the given period.\n",
    "tasks_df = utils.fetch_tasks(\n",
    "    client,\n",
    "    project_ids=config[\"project_id\"],\n",
    "    start_date=config[\"start_date\"],\n",
    "    end_date=config[\"end_date\"],\n",
    ")\n",
    "# Fetch tasks completed in the given period.\n",
    "_LOG.info(\n",
    "    \"Created_taaks_df = \\n%s\", hpandas.df_to_str(tasks_df, log_level=logging.INFO)\n",
    ")"
   ]
  },
  {
   "cell_type": "markdown",
   "id": "ef1a6db4-d14f-4031-8ce0-f381f1542fbc",
   "metadata": {},
   "source": [
    "## Fetching Comments (Stories)\n",
    "We now fetch comments for the tasks that were created or completed in the time window.\n",
    "`get_task_comments`:\n",
    "- Takes a list of task_ids.\n",
    "- Returns a DataFrame with `task_id`, `comment_text`, `comment_author`, `comment_created_at`.\n"
   ]
  },
  {
   "cell_type": "code",
   "execution_count": 28,
   "id": "2e152273-8148-4d80-80af-a219b0deaedb",
   "metadata": {},
   "outputs": [
    {
     "data": {
      "text/html": [
       "<div>\n",
       "<style scoped>\n",
       "    .dataframe tbody tr th:only-of-type {\n",
       "        vertical-align: middle;\n",
       "    }\n",
       "\n",
       "    .dataframe tbody tr th {\n",
       "        vertical-align: top;\n",
       "    }\n",
       "\n",
       "    .dataframe thead th {\n",
       "        text-align: right;\n",
       "    }\n",
       "</style>\n",
       "<table border=\"1\" class=\"dataframe\">\n",
       "  <thead>\n",
       "    <tr style=\"text-align: right;\">\n",
       "      <th></th>\n",
       "      <th>task_id</th>\n",
       "      <th>text</th>\n",
       "      <th>author</th>\n",
       "      <th>created_at</th>\n",
       "    </tr>\n",
       "  </thead>\n",
       "  <tbody>\n",
       "    <tr>\n",
       "      <th>0</th>\n",
       "      <td>1208751109009920</td>\n",
       "      <td>Respected Professor Giacinto Paolo Saggese\\nUniversity of Maryland, College Park\\n\\n\\nI hope this email finds you well. My name is Dhruv Gupta, a Master's student in Data Science at the University of Maryland, College Park. I am reaching out to express my interest in any assistantship opportunities within your department. With a strong background in data science, software engineering, and business analytics, I am confident in my ability to make meaningful contributions as a Research, Graduate, or Teaching Assistant.\\n\\nMy motivation for data science is deeply rooted in the intersection of mathematics, statistics, computer science, and domain expertise, captivating my intellectual curiosity. Early exposure to data analysis courses during my academic journey and my innate inquisitiveness ignited my passion for distilling knowledge from raw information. The ability of data science to uncover hidden patterns and trends, thereby synthesizing disparate data points into coherent narratives, became a source of enduring fascination and intellectual engagement. To further explore this territory, I completed my undergraduate studies at the University of Petroleum and Energy Studies, where I earned a Bachelor of Technology - Computer Science with a specialization in Business Analytics and Optimization.\\n\\nWith a background in Computer Science and a specialization in Business Analytics, I have honed skills in data analysis, statistical modeling, and machine learning, particularly through my work at PwC India. There, I leveraged tools like Python's Pandas and R to analyze complex datasets, ensuring high data quality and accuracy. I also evaluated model performance using key metrics, gaining valuable experience in extracting meaningful insights and contributing to strategic decision-making.\\n\\nMy previous role as a Software Development Engineer at PeopleStrong enabled me to work on web applications using Flutter and Dart, enhancing my software development and problem-solving a...</td>\n",
       "      <td>GP Saggese</td>\n",
       "      <td>2024-11-12T20:25:49.263Z</td>\n",
       "    </tr>\n",
       "    <tr>\n",
       "      <th>1</th>\n",
       "      <td>1208751109009926</td>\n",
       "      <td>Dear Professor,\\nI hope this email finds you well. My name is Riya Ambolkar, and I am currently pursuing a Master of Science in Information Systems at the University of Maryland, expected to graduate in December 2025. I am reaching out to inquire about any available Teaching Assistant or Graduate Assistant positions within the Science Academy.\\nThroughout my academic and professional career, I have gained experience in data analysis, machine learning, and programming, skills that I am eager to apply in an academic setting. As an Information Technology Analyst at Kansai Nerolac Paints, I worked on projects involving predictive modeling, data visualization, and the optimization of business processes, leveraging technologies such as Python, SQL, Tableau, and Power BI. I also have a solid foundation in academic research, having published a paper on a hotel recommendation system using modified BERT in IEEE Xplore, as well as delivering a presentation at the International Conference on Artificial Intelligence and Smart Systems.\\nMy experience and technical proficiency make me confident that I can contribute effectively to any research or teaching activities within the Science Academy. I would greatly appreciate the opportunity to assist in the department and expand my academic knowledge and research experience.\\nIf there are any openings or further details about the application process, I would be grateful for your guidance. I have attached my resume and the published paper for your reference and would be thrilled to discuss how I can contribute to your team.\\nThank you for your time and consideration. I look forward to hearing from you soon.\\nBest regards,\\nRiya Ambolkar\\nUID - 121093257</td>\n",
       "      <td>GP Saggese</td>\n",
       "      <td>2024-11-12T20:26:56.381Z</td>\n",
       "    </tr>\n",
       "    <tr>\n",
       "      <th>2</th>\n",
       "      <td>1208751109009934</td>\n",
       "      <td>Dear Professor Saggese,\\n\\nI hope this email finds you well. I am currently pursuing my Master of Science in Applied Machine Learning at CMNS and am thoroughly enjoying my first semester of Fall 2024. I am enrolled in the following courses: Principles of Machine Learning, Principles of Data Science and Probability and Statistics. Each course has been incredibly enriching, and I greatly appreciate the engaging lectures and challenging coursework that have enhanced my understanding and deepened my appreciation for the field.\\n\\nI am writing to express my interest in being considered for a Teaching Assistant (TA) position in the upcoming Spring 2025 semester, should a position be available, whether in one of these courses or in other related Computer Science courses you may be teaching. I am passionate about teaching, and I believe my understanding of the subject and enthusiasm for supporting students would enable me to contribute positively to the learning environment.\\nMy interest in this role is driven by my previous experience as a TA during my Undergraduate Studies, where I assisted with courses in both Probability and Statistics as well as Machine Learning. Additionally, I worked as an International Tutor for Wiingy for a year, teaching Python Programming, Data Analytics, and Machine and Deep Learning to students across North America, Australia, and Europe.\\nI have attached my resume for your reference and would be happy to provide any additional information.\\n\\nPlease let me know if there are any steps I should take or qualifications I need to fulfill to be considered for this role. Thank you very much for your time and for considering my request.\\n\\nI look forward to any guidance you can provide.\\n\\n\\nBest Regards,\\nAnisha Katiyar\\n[MS in Applied Machine Learning]\\n(University ID : 121082886)\\n(Contact Num : +12407919453)</td>\n",
       "      <td>GP Saggese</td>\n",
       "      <td>2024-11-12T20:27:16.180Z</td>\n",
       "    </tr>\n",
       "    <tr>\n",
       "      <th></th>\n",
       "      <td>...</td>\n",
       "      <td>...</td>\n",
       "      <td>...</td>\n",
       "      <td>...</td>\n",
       "    </tr>\n",
       "    <tr>\n",
       "      <th>8</th>\n",
       "      <td>1208751109009946</td>\n",
       "      <td>Umm I found one more candidate promising. I will update the sheet and you can take a call</td>\n",
       "      <td>Shaunak Dhande</td>\n",
       "      <td>2024-11-18T03:42:43.362Z</td>\n",
       "    </tr>\n",
       "    <tr>\n",
       "      <th>9</th>\n",
       "      <td>1208751109009991</td>\n",
       "      <td>On Nov 8, 2024, at 9:34 AM, Sweta Dantu &lt;dsweta@umd.edu&gt; wrote:\\nDear professor, \\n\\nI hope this email finds you well!\\n\\nI am Sweta Dantu, a graduate student at UMD. I am writing this email to express my keen interest in serving as a Teaching Assistant (TA) for DATA 605 for the upcoming spring semester. \\n\\nI've always wanted to work under you and learn a ton. I recently reached out to you regarding a referral for a Graduate Assistant (GA). I am grateful that you have agreed to be a reference for me in my application\\n\\nI would appreciate the opportunity to discuss my qualifications further. Please let me know if you have any openings.\\n\\nThank you for your time and consideration.\\n\\nRegards,\\nSweta Dantu. \\n&lt;SwetaDantu_Resume.pdf&gt;</td>\n",
       "      <td>GP Saggese</td>\n",
       "      <td>2024-11-12T20:29:58.884Z</td>\n",
       "    </tr>\n",
       "    <tr>\n",
       "      <th>10</th>\n",
       "      <td>1208751109009997</td>\n",
       "      <td>Hi Professor Saggese,\\nThank you very much for reaching out and for the opportunity. I am interested in the TA position for DATA605 and have attached my updated resume for your review.\\nPlease let me know if there’s any additional information I can provide.\\nThank you again,\\nRekha Srinivas Chimpiri\\n\\nSee More from Giacinto Paolo Saggese</td>\n",
       "      <td>GP Saggese</td>\n",
       "      <td>2024-11-12T20:31:09.363Z</td>\n",
       "    </tr>\n",
       "  </tbody>\n",
       "</table>\n",
       "</div>"
      ],
      "text/plain": [
       "             task_id                                                                                                                                                                                                                                                                                                                                                                                                                                                                                                                                                                                                                                                                                                                                                                                                                                                                                                                                                                                                                                                                                                                                                                                                                                                                                                                                                                                                                                                                                                                                                                                                                                                                                                                                                                                                                                                                                                                                                                                                                                                                             text          author                created_at\n",
       "0   1208751109009920  Respected Professor Giacinto Paolo Saggese\\nUniversity of Maryland, College Park\\n\\n\\nI hope this email finds you well. My name is Dhruv Gupta, a Master's student in Data Science at the University of Maryland, College Park. I am reaching out to express my interest in any assistantship opportunities within your department. With a strong background in data science, software engineering, and business analytics, I am confident in my ability to make meaningful contributions as a Research, Graduate, or Teaching Assistant.\\n\\nMy motivation for data science is deeply rooted in the intersection of mathematics, statistics, computer science, and domain expertise, captivating my intellectual curiosity. Early exposure to data analysis courses during my academic journey and my innate inquisitiveness ignited my passion for distilling knowledge from raw information. The ability of data science to uncover hidden patterns and trends, thereby synthesizing disparate data points into coherent narratives, became a source of enduring fascination and intellectual engagement. To further explore this territory, I completed my undergraduate studies at the University of Petroleum and Energy Studies, where I earned a Bachelor of Technology - Computer Science with a specialization in Business Analytics and Optimization.\\n\\nWith a background in Computer Science and a specialization in Business Analytics, I have honed skills in data analysis, statistical modeling, and machine learning, particularly through my work at PwC India. There, I leveraged tools like Python's Pandas and R to analyze complex datasets, ensuring high data quality and accuracy. I also evaluated model performance using key metrics, gaining valuable experience in extracting meaningful insights and contributing to strategic decision-making.\\n\\nMy previous role as a Software Development Engineer at PeopleStrong enabled me to work on web applications using Flutter and Dart, enhancing my software development and problem-solving a...      GP Saggese  2024-11-12T20:25:49.263Z\n",
       "1   1208751109009926                                                                                                                                                                                                                                                                                                  Dear Professor,\\nI hope this email finds you well. My name is Riya Ambolkar, and I am currently pursuing a Master of Science in Information Systems at the University of Maryland, expected to graduate in December 2025. I am reaching out to inquire about any available Teaching Assistant or Graduate Assistant positions within the Science Academy.\\nThroughout my academic and professional career, I have gained experience in data analysis, machine learning, and programming, skills that I am eager to apply in an academic setting. As an Information Technology Analyst at Kansai Nerolac Paints, I worked on projects involving predictive modeling, data visualization, and the optimization of business processes, leveraging technologies such as Python, SQL, Tableau, and Power BI. I also have a solid foundation in academic research, having published a paper on a hotel recommendation system using modified BERT in IEEE Xplore, as well as delivering a presentation at the International Conference on Artificial Intelligence and Smart Systems.\\nMy experience and technical proficiency make me confident that I can contribute effectively to any research or teaching activities within the Science Academy. I would greatly appreciate the opportunity to assist in the department and expand my academic knowledge and research experience.\\nIf there are any openings or further details about the application process, I would be grateful for your guidance. I have attached my resume and the published paper for your reference and would be thrilled to discuss how I can contribute to your team.\\nThank you for your time and consideration. I look forward to hearing from you soon.\\nBest regards,\\nRiya Ambolkar\\nUID - 121093257      GP Saggese  2024-11-12T20:26:56.381Z\n",
       "2   1208751109009934                                                                                                                                               Dear Professor Saggese,\\n\\nI hope this email finds you well. I am currently pursuing my Master of Science in Applied Machine Learning at CMNS and am thoroughly enjoying my first semester of Fall 2024. I am enrolled in the following courses: Principles of Machine Learning, Principles of Data Science and Probability and Statistics. Each course has been incredibly enriching, and I greatly appreciate the engaging lectures and challenging coursework that have enhanced my understanding and deepened my appreciation for the field.\\n\\nI am writing to express my interest in being considered for a Teaching Assistant (TA) position in the upcoming Spring 2025 semester, should a position be available, whether in one of these courses or in other related Computer Science courses you may be teaching. I am passionate about teaching, and I believe my understanding of the subject and enthusiasm for supporting students would enable me to contribute positively to the learning environment.\\nMy interest in this role is driven by my previous experience as a TA during my Undergraduate Studies, where I assisted with courses in both Probability and Statistics as well as Machine Learning. Additionally, I worked as an International Tutor for Wiingy for a year, teaching Python Programming, Data Analytics, and Machine and Deep Learning to students across North America, Australia, and Europe.\\nI have attached my resume for your reference and would be happy to provide any additional information.\\n\\nPlease let me know if there are any steps I should take or qualifications I need to fulfill to be considered for this role. Thank you very much for your time and for considering my request.\\n\\nI look forward to any guidance you can provide.\\n\\n\\nBest Regards,\\nAnisha Katiyar\\n[MS in Applied Machine Learning]\\n(University ID : 121082886)\\n(Contact Num : +12407919453)      GP Saggese  2024-11-12T20:27:16.180Z\n",
       "                 ...                                                                                                                                                                                                                                                                                                                                                                                                                                                                                                                                                                                                                                                                                                                                                                                                                                                                                                                                                                                                                                                                                                                                                                                                                                                                                                                                                                                                                                                                                                                                                                                                                                                                                                                                                                                                                                                                                                                                                                                                                                                                              ...             ...                       ...\n",
       "8   1208751109009946                                                                                                                                                                                                                                                                                                                                                                                                                                                                                                                                                                                                                                                                                                                                                                                                                                                                                                                                                                                                                                                                                                                                                                                                                                                                                                                                                                                                                                                                                                                                                                                                                                                                                                                                                                                                                                                                                                                                                                                        Umm I found one more candidate promising. I will update the sheet and you can take a call  Shaunak Dhande  2024-11-18T03:42:43.362Z\n",
       "9   1208751109009991                                                                                                                                                                                                                                                                                                                                                                                                                                                                                                                                                                                                                                                                                                                                                                                                                                                                                                                                                                                                                                                                                                                                                                                                                                                                                                           On Nov 8, 2024, at 9:34 AM, Sweta Dantu <dsweta@umd.edu> wrote:\\nDear professor, \\n\\nI hope this email finds you well!\\n\\nI am Sweta Dantu, a graduate student at UMD. I am writing this email to express my keen interest in serving as a Teaching Assistant (TA) for DATA 605 for the upcoming spring semester. \\n\\nI've always wanted to work under you and learn a ton. I recently reached out to you regarding a referral for a Graduate Assistant (GA). I am grateful that you have agreed to be a reference for me in my application\\n\\nI would appreciate the opportunity to discuss my qualifications further. Please let me know if you have any openings.\\n\\nThank you for your time and consideration.\\n\\nRegards,\\nSweta Dantu. \\n<SwetaDantu_Resume.pdf>      GP Saggese  2024-11-12T20:29:58.884Z\n",
       "10  1208751109009997                                                                                                                                                                                                                                                                                                                                                                                                                                                                                                                                                                                                                                                                                                                                                                                                                                                                                                                                                                                                                                                                                                                                                                                                                                                                                                                                                                                                                                                                                                                                                                                                                                                                                                                             Hi Professor Saggese,\\nThank you very much for reaching out and for the opportunity. I am interested in the TA position for DATA605 and have attached my updated resume for your review.\\nPlease let me know if there’s any additional information I can provide.\\nThank you again,\\nRekha Srinivas Chimpiri\\n\\nSee More from Giacinto Paolo Saggese      GP Saggese  2024-11-12T20:31:09.363Z"
      ]
     },
     "metadata": {},
     "output_type": "display_data"
    },
    {
     "name": "stdout",
     "output_type": "stream",
     "text": [
      "INFO  Comments df = \n",
      " None\n"
     ]
    }
   ],
   "source": [
    "task_ids = (\n",
    "    tasks_df[\"task_id\"].tolist() if not tasks_df.empty else []\n",
    ")\n",
    "tasks_comments_df = utils.fetch_comments(client, task_ids)\n",
    "_LOG.info(\n",
    "    \"Comments df = \\n %s\",\n",
    "    hpandas.df_to_str(tasks_comments_df, log_level=logging.INFO),\n",
    ")"
   ]
  },
  {
   "cell_type": "markdown",
   "id": "deb344b2-d2fd-4a8a-8a98-ee24ce40703b",
   "metadata": {
    "magic_args": "[markdown]"
   },
   "source": [
    "## Computing Statistics\n",
    "We'll compute:\n",
    "- Number of tasks created in the period.\n",
    "- Number of comments on tasks created in the period."
   ]
  },
  {
   "cell_type": "code",
   "execution_count": 30,
   "id": "d23c7979-4867-4c60-875f-1df3d46ef512",
   "metadata": {},
   "outputs": [
    {
     "name": "stdout",
     "output_type": "stream",
     "text": [
      "INFO  Number of tasks created in the period: 17\n",
      "INFO  Number of comments on created tasks: 11\n"
     ]
    }
   ],
   "source": [
    "num_created_tasks = len(tasks_df)\n",
    "num_comments_on_created = len(tasks_comments_df)\n",
    "_LOG.info(\"Number of tasks created in the period: %s\", num_created_tasks)\n",
    "_LOG.info(\"Number of comments on created tasks: %s\", num_comments_on_created)"
   ]
  },
  {
   "cell_type": "markdown",
   "id": "42d3058e-b259-4ff0-ae8c-41710d1767d6",
   "metadata": {},
   "source": [
    "## Statistics for All Users\n",
    "\n",
    "We can aggregate by user (assignee) to see how many tasks each user created or completed.\n",
    "\n",
    "**Tasks Created per User**:\n",
    "If `created_tasks_df` includes `assignee`, we can group by that column.\n"
   ]
  },
  {
   "cell_type": "code",
   "execution_count": 31,
   "id": "dae8a357-1bef-498d-b9ef-7e1c35210d9a",
   "metadata": {},
   "outputs": [
    {
     "name": "stdout",
     "output_type": "stream",
     "text": [
      "Tasks Created by User:\n",
      "                  assignee  tasks_created_count\n",
      "0         Krishna P Taduri                    1\n",
      "1  Prahar Kaushikbhai Modi                    1\n",
      "2           Shaunak Dhande                    8\n"
     ]
    }
   ],
   "source": [
    "if not tasks_df.empty and \"assignee\" in tasks_df.columns:\n",
    "    tasks_created_by_user = (\n",
    "        tasks_df.groupby(\"assignee\")[\"task_id\"].count().reset_index()\n",
    "    )\n",
    "    tasks_created_by_user.columns = [\"assignee\", \"tasks_created_count\"]\n",
    "    print(\"Tasks Created by User:\")\n",
    "    print(tasks_created_by_user)\n",
    "else:\n",
    "    print(\"No tasks created or 'assignee' information not available.\")"
   ]
  },
  {
   "cell_type": "markdown",
   "id": "7131c49e-7fbe-4086-bcc5-039b6ad65f4c",
   "metadata": {},
   "source": [
    "**Tasks Completed per User**:\n",
    "\n",
    "Similarly, for completed tasks:"
   ]
  },
  {
   "cell_type": "code",
   "execution_count": 33,
   "id": "6b3a9216-e077-4c54-93da-60aeb3d77e38",
   "metadata": {},
   "outputs": [
    {
     "name": "stdout",
     "output_type": "stream",
     "text": [
      "No tasks completed or 'assignee' information not available.\n"
     ]
    }
   ],
   "source": [
    "completed_tasks_df = tasks_df[tasks_df[\"task_status\"] == \"Completed\"]\n",
    "if not completed_tasks_df.empty and \"assignee\" in completed_tasks_df.columns:\n",
    "    tasks_completed_by_user = (\n",
    "        completed_tasks_df.groupby(\"assignee\")[\"task_id\"].count().reset_index()\n",
    "    )\n",
    "    tasks_completed_by_user.columns = [\"assignee\", \"tasks_completed_count\"]\n",
    "    print(\"Tasks Completed by User:\")\n",
    "    print(tasks_completed_by_user)\n",
    "else:\n",
    "    print(\"No tasks completed or 'assignee' information not available.\")"
   ]
  },
  {
   "cell_type": "markdown",
   "id": "9eff27c9-07d1-4749-b042-3fc03d942167",
   "metadata": {},
   "source": [
    "**Comments per User**:\n",
    "\n",
    "For comments, we have `author`. We can see how many comments each user made during this period for both created and completed tasks.\n"
   ]
  },
  {
   "cell_type": "code",
   "execution_count": 35,
   "id": "1eeaab9b-64c0-4d48-a669-d88176e4bbe5",
   "metadata": {},
   "outputs": [
    {
     "name": "stdout",
     "output_type": "stream",
     "text": [
      "Comments by User:\n",
      "           author  comments_count\n",
      "0      GP Saggese              10\n",
      "1  Shaunak Dhande               1\n"
     ]
    }
   ],
   "source": [
    "if not tasks_comments_df.empty and \"author\" in tasks_comments_df.columns:\n",
    "    comments_by_user = (\n",
    "        tasks_comments_df.groupby(\"author\")[\"task_id\"].count().reset_index()\n",
    "    )\n",
    "    comments_by_user.columns = [\"author\", \"comments_count\"]\n",
    "    print(\"Comments by User:\")\n",
    "    print(comments_by_user)\n",
    "else:\n",
    "    print(\"No comments found or 'comment_author' information not available.\")"
   ]
  }
 ],
 "metadata": {
  "jupytext": {
   "formats": "ipynb,py:percent"
  },
  "kernelspec": {
   "display_name": "Python 3 (ipykernel)",
   "language": "python",
   "name": "python3"
  },
  "language_info": {
   "codemirror_mode": {
    "name": "ipython",
    "version": 3
   },
   "file_extension": ".py",
   "mimetype": "text/x-python",
   "name": "python",
   "nbconvert_exporter": "python",
   "pygments_lexer": "ipython3",
   "version": "3.12.3"
  }
 },
 "nbformat": 4,
 "nbformat_minor": 5
}
