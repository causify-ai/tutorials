{
 "cells": [
  {
   "cell_type": "code",
   "execution_count": null,
   "id": "777dff79-07cf-4743-ace1-387986abafaa",
   "metadata": {},
   "outputs": [
    {
     "name": "stdout",
     "output_type": "stream",
     "text": [
      "Requirement already satisfied: neo4j in /venv/lib/python3.12/site-packages (5.27.0)\n",
      "Requirement already satisfied: pytz in /venv/lib/python3.12/site-packages (from neo4j) (2024.2)\n",
      "Requirement already satisfied: py2neo in /venv/lib/python3.12/site-packages (2021.2.4)\n",
      "Requirement already satisfied: certifi in /venv/lib/python3.12/site-packages (from py2neo) (2024.8.30)\n",
      "Requirement already satisfied: interchange~=2021.0.4 in /venv/lib/python3.12/site-packages (from py2neo) (2021.0.4)\n",
      "Requirement already satisfied: monotonic in /venv/lib/python3.12/site-packages (from py2neo) (1.6)\n",
      "Requirement already satisfied: packaging in /venv/lib/python3.12/site-packages (from py2neo) (24.2)\n",
      "Requirement already satisfied: pansi>=2020.7.3 in /venv/lib/python3.12/site-packages (from py2neo) (2024.11.0)\n",
      "Requirement already satisfied: pygments>=2.0.0 in /venv/lib/python3.12/site-packages (from py2neo) (2.18.0)\n",
      "Requirement already satisfied: six>=1.15.0 in /venv/lib/python3.12/site-packages (from py2neo) (1.17.0)\n",
      "Requirement already satisfied: urllib3 in /venv/lib/python3.12/site-packages (from py2neo) (2.2.3)\n",
      "Requirement already satisfied: pytz in /venv/lib/python3.12/site-packages (from interchange~=2021.0.4->py2neo) (2024.2)\n",
      "Requirement already satisfied: pillow in /venv/lib/python3.12/site-packages (from pansi>=2020.7.3->py2neo) (11.0.0)\n"
     ]
    }
   ],
   "source": [
    "!sudo /bin/bash -c \"(source /venv/bin/activate; pip install neo4j; pip install py2neo)\""
   ]
  },
  {
   "cell_type": "code",
   "execution_count": 89,
   "id": "0f55cece-4f6e-4307-88ef-097eb1ace8b0",
   "metadata": {},
   "outputs": [
    {
     "name": "stdout",
     "output_type": "stream",
     "text": [
      "Directories in use:\n",
      "  home:         /var/lib/neo4j\n",
      "  config:       /etc/neo4j\n",
      "  logs:         /var/log/neo4j\n",
      "  plugins:      /var/lib/neo4j/plugins\n",
      "  import:       /var/lib/neo4j/import\n",
      "  data:         /var/lib/neo4j/data\n",
      "  certificates: /var/lib/neo4j/certificates\n",
      "  run:          /var/run/neo4j\n",
      "Starting Neo4j.\n",
      "WARNING: Max 1024 open files allowed, minimum of 40000 recommended. See the Neo4j manual.\n",
      "Started neo4j (pid 1713). It is available at http://localhost:7474/\n",
      "There may be a short delay until the server is ready.\n",
      "See /var/log/neo4j/neo4j.log for current status.\n"
     ]
    }
   ],
   "source": [
    "!sudo neo4j start"
   ]
  },
  {
   "cell_type": "code",
   "execution_count": 90,
   "id": "e0d44a06-186b-4aef-ab41-eae770880dfc",
   "metadata": {},
   "outputs": [
    {
     "name": "stdout",
     "output_type": "stream",
     "text": [
      "Failed to connect to Neo4j via HTTP: 404 Not Found\n",
      "Connection to Neo4j via HTTP failed\n"
     ]
    }
   ],
   "source": [
    "\n",
    "import requests\n",
    "from requests.auth import HTTPBasicAuth\n",
    "\n",
    "# Function to check Neo4j connection using HTTP\n",
    "def check_neo4j_http_connection(uri: str, auth: tuple):\n",
    "    try:\n",
    "        response = requests.get(f\"{uri}/db/data/\", auth=HTTPBasicAuth(*auth))\n",
    "        if response.status_code == 200:\n",
    "            print(\"Successfully connected to Neo4j via HTTP\")\n",
    "            return True\n",
    "        else:\n",
    "            print(f\"Failed to connect to Neo4j via HTTP: {response.status_code} {response.reason}\")\n",
    "            return False\n",
    "    except Exception as e:\n",
    "        print(f\"Failed to connect to Neo4j via HTTP: {e}\")\n",
    "        return False\n",
    "\n",
    "# Example usage\n",
    "URI = \"http://localhost:7474/\"\n",
    "AUTH = (\"neo4j\", \"neo4j\")\n",
    "if check_neo4j_http_connection(URI, AUTH):\n",
    "    print(\"Connection to Neo4j via HTTP is successful\")\n",
    "else:\n",
    "    print(\"Connection to Neo4j via HTTP failed\")"
   ]
  },
  {
   "cell_type": "code",
   "execution_count": null,
   "id": "09d4b8ed-0bca-4590-a7d2-461d1116356e",
   "metadata": {},
   "outputs": [],
   "source": []
  },
  {
   "cell_type": "code",
   "execution_count": null,
   "id": "3c6318b4-0284-489c-9741-90a6d59ae544",
   "metadata": {},
   "outputs": [],
   "source": []
  }
 ],
 "metadata": {
  "kernelspec": {
   "display_name": "Python 3 (ipykernel)",
   "language": "python",
   "name": "python3"
  },
  "language_info": {
   "codemirror_mode": {
    "name": "ipython",
    "version": 3
   },
   "file_extension": ".py",
   "mimetype": "text/x-python",
   "name": "python",
   "nbconvert_exporter": "python",
   "pygments_lexer": "ipython3",
   "version": "3.12.3"
  }
 },
 "nbformat": 4,
 "nbformat_minor": 5
}
