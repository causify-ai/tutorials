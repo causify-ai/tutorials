{
 "cells": [
  {
   "cell_type": "markdown",
   "id": "6ac301cd",
   "metadata": {},
   "source": [
    "# Introduction to Neo4j\n",
    "\n",
    "Neo4j is a graph database management system developed by Neo4j, Inc. It is an ACID-compliant transactional database with native graph storage and processing. In this tutorial, we will learn how to use Neo4j with Python using the `neo4j` library."
   ]
  },
  {
   "cell_type": "markdown",
   "id": "362a43b2",
   "metadata": {},
   "source": [
    "## Installation"
   ]
  },
  {
   "cell_type": "code",
   "execution_count": null,
   "id": "777dff79-07cf-4743-ace1-387986abafaa",
   "metadata": {},
   "outputs": [
    {
     "name": "stdout",
     "output_type": "stream",
     "text": [
      "Requirement already satisfied: neo4j in /venv/lib/python3.12/site-packages (5.27.0)\n",
      "Requirement already satisfied: pytz in /venv/lib/python3.12/site-packages (from neo4j) (2024.2)\n",
      "Requirement already satisfied: py2neo in /venv/lib/python3.12/site-packages (2021.2.4)\n",
      "Requirement already satisfied: certifi in /venv/lib/python3.12/site-packages (from py2neo) (2024.8.30)\n",
      "Requirement already satisfied: interchange~=2021.0.4 in /venv/lib/python3.12/site-packages (from py2neo) (2021.0.4)\n",
      "Requirement already satisfied: monotonic in /venv/lib/python3.12/site-packages (from py2neo) (1.6)\n",
      "Requirement already satisfied: packaging in /venv/lib/python3.12/site-packages (from py2neo) (24.2)\n",
      "Requirement already satisfied: pansi>=2020.7.3 in /venv/lib/python3.12/site-packages (from py2neo) (2024.11.0)\n",
      "Requirement already satisfied: pygments>=2.0.0 in /venv/lib/python3.12/site-packages (from py2neo) (2.18.0)\n",
      "Requirement already satisfied: six>=1.15.0 in /venv/lib/python3.12/site-packages (from py2neo) (1.17.0)\n",
      "Requirement already satisfied: urllib3 in /venv/lib/python3.12/site-packages (from py2neo) (2.2.3)\n",
      "Requirement already satisfied: pytz in /venv/lib/python3.12/site-packages (from interchange~=2021.0.4->py2neo) (2024.2)\n",
      "Requirement already satisfied: pillow in /venv/lib/python3.12/site-packages (from pansi>=2020.7.3->py2neo) (11.0.0)\n"
     ]
    }
   ],
   "source": [
    "# First, ensure that you have Neo4j installed and running. You can install the `neo4j` library using pip:\n",
    "!sudo /bin/bash -c \"(source /venv/bin/activate; pip install neo4j; pip install py2neo)\""
   ]
  },
  {
   "cell_type": "markdown",
   "id": "f0dc9d85",
   "metadata": {},
   "source": [
    "## Starting Neo4j Server"
   ]
  },
  {
   "cell_type": "code",
   "execution_count": 13,
   "id": "0f55cece-4f6e-4307-88ef-097eb1ace8b0",
   "metadata": {},
   "outputs": [
    {
     "name": "stdout",
     "output_type": "stream",
     "text": [
      "Directories in use:\n",
      "  home:         /var/lib/neo4j\n",
      "  config:       /etc/neo4j\n",
      "  logs:         /var/log/neo4j\n",
      "  plugins:      /var/lib/neo4j/plugins\n",
      "  import:       /var/lib/neo4j/import\n",
      "  data:         /var/lib/neo4j/data\n",
      "  certificates: /var/lib/neo4j/certificates\n",
      "  run:          /var/run/neo4j\n",
      "Starting Neo4j.\n",
      "WARNING: Max 1024 open files allowed, minimum of 40000 recommended. See the Neo4j manual.\n",
      "Started neo4j (pid 714). It is available at http://localhost:7474/\n",
      "There may be a short delay until the server is ready.\n",
      "See /var/log/neo4j/neo4j.log for current status.\n"
     ]
    }
   ],
   "source": [
    "# Next, you can start the Neo4j server using the following command:\n",
    "!sudo neo4j start"
   ]
  },
  {
   "cell_type": "code",
   "execution_count": 14,
   "id": "6e138fde-1e17-4a35-b51b-627f0b4bfdb1",
   "metadata": {},
   "outputs": [
    {
     "name": "stdout",
     "output_type": "stream",
     "text": [
      " * neo4j is running\n"
     ]
    }
   ],
   "source": [
    "# You can check the status of the Neo4j server using the following command:\n",
    "!service neo4j status"
   ]
  },
  {
   "cell_type": "markdown",
   "id": "eb04554e",
   "metadata": {},
   "source": [
    "## Connect to Neo4j Server"
   ]
  },
  {
   "cell_type": "code",
   "execution_count": 23,
   "id": "05214857-9857-4983-9df4-b3a1577397ec",
   "metadata": {},
   "outputs": [
    {
     "name": "stdout",
     "output_type": "stream",
     "text": [
      "Connection established.\n"
     ]
    }
   ],
   "source": [
    "from neo4j import GraphDatabase\n",
    "\n",
    "# URI and authentication details\n",
    "URI = \"neo4j://localhost:7687\"\n",
    "USER = \"neo4j\"\n",
    "PASSWORD = \"neo4j\"\n",
    "\n",
    "# Create a driver instance\n",
    "driver = GraphDatabase.driver(URI, auth=(USER, PASSWORD))\n",
    "driver.verify_connectivity()\n",
    "print(\"Connection established.\")"
   ]
  },
  {
   "cell_type": "markdown",
   "id": "90444efa",
   "metadata": {},
   "source": [
    "## Update Password of Neo4j database"
   ]
  },
  {
   "cell_type": "code",
   "execution_count": 24,
   "id": "42abefc5",
   "metadata": {},
   "outputs": [
    {
     "name": "stdout",
     "output_type": "stream",
     "text": [
      "Connection established.\n"
     ]
    },
    {
     "name": "stderr",
     "output_type": "stream",
     "text": [
      "/tmp/ipykernel_318/541004876.py:8: DeprecationWarning: write_transaction has been renamed to execute_write\n",
      "  session.write_transaction(change_password, \"neo4j\", \"new_password\")\n"
     ]
    }
   ],
   "source": [
    "# The first step once you have created a session is to change the password. You can do this using the following command:\n",
    "def change_password(tx, current_password, new_password):\n",
    "    tx.run(\"ALTER CURRENT USER SET PASSWORD FROM $current_password TO $new_password\",\n",
    "           current_password=current_password, new_password=new_password)\n",
    "    \n",
    "# Change the password\n",
    "with driver.session(database=\"system\") as session:\n",
    "    session.write_transaction(change_password, \"neo4j\", \"new_password\")\n",
    "\n",
    "# Reconnect with the new password\n",
    "driver = GraphDatabase.driver(URI, auth=(\"neo4j\", \"new_password\"))\n",
    "driver.verify_connectivity()\n",
    "print(\"Connection established.\")"
   ]
  },
  {
   "cell_type": "markdown",
   "id": "ceed8426",
   "metadata": {},
   "source": [
    "# Check the Neo4j graph"
   ]
  },
  {
   "cell_type": "code",
   "execution_count": 47,
   "id": "0d4ae62b",
   "metadata": {},
   "outputs": [],
   "source": [
    "from py2neo import Graph\n",
    "\n",
    "# Connect to the graph database\n",
    "graph = Graph(URI, auth=(USER, \"new_password\"))\n",
    "\n",
    "def view_graph(graph):\n",
    "    nodes = graph.nodes.match()\n",
    "    relationships = graph.relationships.match()\n",
    "    print(\"Nodes in the graph:\")\n",
    "    for node in nodes:\n",
    "        print(node)\n",
    "    print(\"\\nRelationships in the graph:\")\n",
    "    for relationship in relationships:\n",
    "        print(relationship)"
   ]
  },
  {
   "cell_type": "markdown",
   "id": "6edfb8ff",
   "metadata": {},
   "source": [
    "# Basic Concepts\n",
    "\n",
    "In Neo4j, data is stored as nodes, relationships, and properties.\n",
    "\n",
    "- **Nodes**: Entities such as people, products, or places.\n",
    "- **Relationships**: Connections between nodes, such as \"KNOWS\" or \"LIKES\".\n",
    "- **Properties**: Key-value pairs that store information about nodes and relationships."
   ]
  },
  {
   "cell_type": "markdown",
   "id": "664d1bab",
   "metadata": {},
   "source": [
    "## Creating Nodes"
   ]
  },
  {
   "cell_type": "code",
   "execution_count": 91,
   "id": "04251e55",
   "metadata": {},
   "outputs": [
    {
     "name": "stdout",
     "output_type": "stream",
     "text": [
      "Nodes created and returned node: <Node element_id='10' labels=frozenset({'Person'}) properties={'name': 'Jack'}>\n",
      "Nodes in the graph:\n",
      "(_6:Person {name: 'Dave'})\n",
      "(_7:Employee {name: 'Grace'})\n",
      "(_8:Employee:Person {name: 'Hank'})\n",
      "(_9:Person {age: 28, city: 'New York', name: 'Ivy'})\n",
      "(_10:Person {name: 'Jack'})\n",
      "\n",
      "Relationships in the graph:\n"
     ]
    }
   ],
   "source": [
    "def create_person(tx, name):\n",
    "    # The CREATE statement is used to create a new node in the database.\n",
    "    # In this example, we create a node with the label 'Person' and a property 'name'.\n",
    "    tx.run(\"CREATE (a:Person {name: $name})\", name=name)\n",
    "\n",
    "def create_node_with_label(tx, label, name):\n",
    "    # Create a node with a specified label and a property 'name'.\n",
    "    # The label is provided as a parameter.\n",
    "    tx.run(f\"CREATE (a:{label} {{name: $name}})\", name=name)\n",
    "\n",
    "def create_node_with_multiple_labels(tx, labels, name):\n",
    "    # Create a node with multiple labels and a property 'name'.\n",
    "    # The labels are provided as a list and joined with ':'.\n",
    "    label_str = \":\".join(labels)\n",
    "    tx.run(f\"CREATE (a:{label_str} {{name: $name}})\", name=name)\n",
    "\n",
    "def create_node_with_properties(tx, label, properties):\n",
    "    # Create a node with a specified label and multiple properties.\n",
    "    # The properties are provided as a dictionary.\n",
    "    props_str = \", \".join([f\"{key}: ${key}\" for key in properties.keys()])\n",
    "    tx.run(f\"CREATE (a:{label} {{{props_str}}})\", **properties)\n",
    "\n",
    "def return_created_node(tx, label, name):\n",
    "    # Create a node with a specified label and a property 'name', then return the created node.\n",
    "    result = tx.run(f\"CREATE (a:{label} {{name: $name}}) RETURN a\", name=name)\n",
    "    return result.single()[0]\n",
    "\n",
    "# Use the session to write the transactions\n",
    "with driver.session() as session:\n",
    "    # Create a node with the label 'Person' and the name 'Dave'\n",
    "    session.execute_write(create_person, \"Dave\")\n",
    "    # Create a node with the label 'Employee' and the name 'Grace'\n",
    "    session.execute_write(create_node_with_label, \"Employee\", \"Grace\")\n",
    "    # Create a node with the labels 'Person' and 'Employee' and the name 'Hank'\n",
    "    session.execute_write(create_node_with_multiple_labels, [\"Person\", \"Employee\"], \"Hank\")\n",
    "    # Create a node with the label 'Person' and properties 'name', 'age', and 'city'\n",
    "    session.execute_write(create_node_with_properties, \"Person\", {\"name\": \"Ivy\", \"age\": 28, \"city\": \"New York\"})\n",
    "    # Create a node with the label 'Person' and the name 'Jack', then return the created node\n",
    "    created_node = session.execute_write(return_created_node, \"Person\", \"Jack\")\n",
    "\n",
    "print(\"Nodes created and returned node:\", created_node)\n",
    "\n",
    "view_graph(graph)\n"
   ]
  },
  {
   "cell_type": "markdown",
   "id": "af0d0ede",
   "metadata": {},
   "source": [
    "## Clearing the database"
   ]
  },
  {
   "cell_type": "code",
   "execution_count": 90,
   "id": "13184bf2",
   "metadata": {},
   "outputs": [],
   "source": [
    "def clear_database(tx):\n",
    "    tx.run(\"MATCH (n) DETACH DELETE n\")\n",
    "    \n",
    "with driver.session() as session:\n",
    "    # Clear the database\n",
    "    session.execute_write(clear_database)"
   ]
  },
  {
   "cell_type": "markdown",
   "id": "b6459b79",
   "metadata": {},
   "source": [
    "# Create Relations between Nodes"
   ]
  },
  {
   "cell_type": "code",
   "execution_count": 92,
   "id": "59fbdd41",
   "metadata": {},
   "outputs": [
    {
     "name": "stderr",
     "output_type": "stream",
     "text": [
      "Received notification from DBMS server: {severity: WARNING} {code: Neo.ClientNotification.Statement.CartesianProductWarning} {category: } {title: This query builds a cartesian product between disconnected patterns.} {description: If a part of a query contains multiple disconnected patterns, this will build a cartesian product between all those parts. This may produce a large amount of data and slow down query processing. While occasionally intended, it may often be possible to reformulate the query that avoids the use of this cross product, perhaps by adding a relationship between the different parts or by using OPTIONAL MATCH (identifier is: (b))} {position: line: 1, column: 1, offset: 0} for query: 'MATCH (a:Person {name: $node1_name}), (b:Person {name: $node2_name}) CREATE (a)-[:KNOWS]->(b)'\n",
      "Received notification from DBMS server: {severity: WARNING} {code: Neo.ClientNotification.Statement.CartesianProductWarning} {category: } {title: This query builds a cartesian product between disconnected patterns.} {description: If a part of a query contains multiple disconnected patterns, this will build a cartesian product between all those parts. This may produce a large amount of data and slow down query processing. While occasionally intended, it may often be possible to reformulate the query that avoids the use of this cross product, perhaps by adding a relationship between the different parts or by using OPTIONAL MATCH (identifier is: (b))} {position: line: 1, column: 1, offset: 0} for query: 'MATCH (a:Employee {name: $node1_name}), (b:Employee {name: $node2_name}) CREATE (a)-[:WORKS_WITH {since: $since}]->(b)'\n"
     ]
    },
    {
     "name": "stdout",
     "output_type": "stream",
     "text": [
      "Relationships created.\n",
      "Nodes in the graph:\n",
      "(_6:Person {name: 'Dave'})\n",
      "(_7:Employee {name: 'Grace'})\n",
      "(_8:Employee:Person {name: 'Hank'})\n",
      "(_9:Person {age: 28, city: 'New York', name: 'Ivy'})\n",
      "(_10:Person {name: 'Jack'})\n",
      "\n",
      "Relationships in the graph:\n",
      "(Grace)-[:WORKS_WITH {since: 2020}]->(Hank)\n",
      "(Jack)-[:KNOWS {}]->(Dave)\n"
     ]
    }
   ],
   "source": [
    "def create_relationship(tx, node1_label, node1_name, relationship_type, node2_label, node2_name):\n",
    "    # Create a relationship between two existing nodes\n",
    "    tx.run(f\"MATCH (a:{node1_label} {{name: $node1_name}}), (b:{node2_label} {{name: $node2_name}}) \"\n",
    "           f\"CREATE (a)-[:{relationship_type}]->(b)\",\n",
    "           node1_name=node1_name, node2_name=node2_name)\n",
    "\n",
    "def create_relationship_with_properties(tx, node1_label, node1_name, relationship_type, properties, node2_label, node2_name):\n",
    "    # Create a relationship with label and properties between two existing nodes\n",
    "    props_str = \", \".join([f\"{key}: ${key}\" for key in properties.keys()])\n",
    "    tx.run(f\"MATCH (a:{node1_label} {{name: $node1_name}}), (b:{node2_label} {{name: $node2_name}}) \"\n",
    "           f\"CREATE (a)-[:{relationship_type} {{{props_str}}}]->(b)\",\n",
    "           node1_name=node1_name, node2_name=node2_name, **properties)\n",
    "\n",
    "# Use the session to write the transactions\n",
    "with driver.session() as session:\n",
    "    # Create a relationship 'KNOWS' between 'Alice' and 'Bob'\n",
    "    session.execute_write(create_relationship, \"Person\", \"Jack\", \"KNOWS\", \"Person\", \"Dave\")\n",
    "    # Create a relationship 'WORKS_WITH' with properties between 'Grace' and 'Hank'\n",
    "    session.execute_write(create_relationship_with_properties, \"Employee\", \"Grace\", \"WORKS_WITH\", {\"since\": 2020}, \"Employee\", \"Hank\")\n",
    "\n",
    "print(\"Relationships created.\")\n",
    "view_graph(graph)"
   ]
  },
  {
   "cell_type": "markdown",
   "id": "7cdd6ad1",
   "metadata": {},
   "source": [
    "## Using MATCH to query database"
   ]
  },
  {
   "cell_type": "code",
   "execution_count": 88,
   "id": "6f908450",
   "metadata": {},
   "outputs": [
    {
     "name": "stdout",
     "output_type": "stream",
     "text": [
      "<Node element_id='1' labels=frozenset({'Person'}) properties={'name': 'Dave'}>\n",
      "<Node element_id='2' labels=frozenset({'Employee'}) properties={'name': 'Grace'}>\n",
      "<Node element_id='3' labels=frozenset({'Employee', 'Person'}) properties={'name': 'Hank'}>\n",
      "<Node element_id='4' labels=frozenset({'Person'}) properties={'name': 'Ivy', 'city': 'New York', 'age': 28}>\n",
      "<Node element_id='5' labels=frozenset({'Person'}) properties={'name': 'Jack'}>\n",
      "<Record Employee.name='Hank'>\n"
     ]
    }
   ],
   "source": [
    "def find_all_nodes(tx):\n",
    "    # Use MATCH to find all nodes.\n",
    "    result = tx.run(\"MATCH (n) RETURN n\")\n",
    "    for record in result:\n",
    "        print(record[0])\n",
    "\n",
    "def find_relations(tx, name):\n",
    "    # Use MATCH to find the person and who they work with.\n",
    "    result = tx.run(\"MATCH (a:Employee {name: $name})-[:WORKS_WITH]->(Employee) \"\n",
    "                    \"RETURN Employee.name ORDER BY Employee.name\", name=name)\n",
    "    record = result.single()\n",
    "    print(record)\n",
    "\n",
    "# Use the session to read the transaction.\n",
    "with driver.session() as session:\n",
    "    # Find and print all nodes.\n",
    "    session.execute_read(find_all_nodes)\n",
    "    # Find and print who works with Grace.\n",
    "    session.execute_read(find_relations, \"Grace\")\n"
   ]
  },
  {
   "cell_type": "code",
   "execution_count": 83,
   "id": "08de636b",
   "metadata": {
    "vscode": {
     "languageId": "ruby"
    }
   },
   "outputs": [],
   "source": [
    "import networkx as nx\n",
    "import matplotlib.pyplot as plt\n",
    "\n",
    "def plot_graph(results):\n",
    "    # Create a directed graph\n",
    "    G = nx.DiGraph()\n",
    "\n",
    "    # Add nodes and edges from the query results\n",
    "    for record in result:\n",
    "        G.add_node(record['from'])\n",
    "        G.add_node(record['to'])\n",
    "        G.add_edge(record['from'], record['to'], label=record['rel'])\n",
    "\n",
    "    # Draw the graph\n",
    "    pos = nx.spring_layout(G)\n",
    "    plt.figure(figsize=(10, 8))\n",
    "    nx.draw(G, pos, with_labels=True, node_color='skyblue', node_size=2000, edge_color='gray', font_size=15, font_weight='bold')\n",
    "    edge_labels = nx.get_edge_attributes(G, 'label')\n",
    "    nx.draw_networkx_edge_labels(G, pos, edge_labels=edge_labels, font_color='red', font_size=12)\n",
    "    plt.title(\"Neo4j Graph Visualization\")\n",
    "    plt.show()"
   ]
  },
  {
   "cell_type": "code",
   "execution_count": null,
   "id": "42ce6dfa",
   "metadata": {
    "vscode": {
     "languageId": "ruby"
    }
   },
   "outputs": [],
   "source": []
  }
 ],
 "metadata": {
  "kernelspec": {
   "display_name": "Python 3 (ipykernel)",
   "language": "python",
   "name": "python3"
  },
  "language_info": {
   "codemirror_mode": {
    "name": "ipython",
    "version": 3
   },
   "file_extension": ".py",
   "mimetype": "text/x-python",
   "name": "python",
   "nbconvert_exporter": "python",
   "pygments_lexer": "ipython3",
   "version": "3.12.3"
  }
 },
 "nbformat": 4,
 "nbformat_minor": 5
}
